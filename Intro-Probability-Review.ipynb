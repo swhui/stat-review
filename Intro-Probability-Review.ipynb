{
 "cells": [
  {
   "cell_type": "markdown",
   "id": "58fe72f4",
   "metadata": {},
   "source": [
    "## Preface\n",
    "\n",
    "This notebook will include important definitions, theorem, and exercises for Stat 135. The purpose of this notebook is to help students review important statistical concepts, and the majority of these exercises and notes come from when I took the course back in Spring 2019 and Mathematical Statistics and Data Analysis by John A. Rice.\n"
   ]
  },
  {
   "cell_type": "markdown",
   "id": "c94ca2fd",
   "metadata": {},
   "source": [
    "## Probability Review"
   ]
  },
  {
   "cell_type": "markdown",
   "id": "21092c98",
   "metadata": {},
   "source": [
    "### Random Variables, Expectation, Variance\n",
    "\n",
    "\n",
    "A **random variable** is set of possible values that come from some random phenomenon. A **discrete random variable** takes on a countable number of distinct values such as the number of heads found in $n$ trials. A **continuous random variable** can take on an infinite number of values in an interval such as the weight of a subject.\n",
    "\n",
    "\n",
    "The **probability mass function (PMF)** ($P(X=x)$) is the probability that a discrete random variable takes on a specific value. We refer to the support of a probability mass function as the set of values that the discrete random variable takes on.\n",
    "\n",
    "Some properties of the PMF of a random variable include:\n",
    " - $P(X=x) \\geq 0$\n",
    " - $\\sum_{\\text{all }x} P(X=x) = 1$\n",
    "\n",
    "\n",
    "The **probability density function (PDF)** ($f(x)$) is the probability that a continuous random variable takes on a specific range.\n",
    "\n",
    "Similarly, some properties of the PDF of a random variable include:\n",
    " - $f(x) \\geq 0$\n",
    " - $\\int_{-\\infty}^{\\infty} f(x) dx = 1$\n",
    "\n",
    "\n",
    "\n",
    "The **cumulative distribution function (CDF)** of a random variable, $X$ is defined to be:\n",
    "\n",
    "$$F_{X}(x) = P(X \\leq x); \\thinspace x\\in (-\\infty, \\infty)$$\n",
    "\n",
    "\n",
    "Some properties of the **CDF** of a random variable include:\n",
    "\n",
    " - $\\lim_{x \\rightarrow -\\infty} F(x) = 0$\n",
    " - $\\lim_{x \\rightarrow \\infty} F(x) = 1$\n",
    " - CDF is non-decreasing (if $x \\leq y$, then $F(x) \\leq F(y)$) and right-continuous.\n",
    "\n",
    "The **expectation of a discrete random variable** $X$ with probability mass function ($P(X=x)$) is: \n",
    "\n",
    "$$E[X] = \\sum_{\\text{all x}} x P(X=x)$$\n",
    "\n",
    "The **expectation of a continuous random variable** $X$ with probability density function ($f(x)$) is: \n",
    "\n",
    "$$E[X] = \\int_{\\text{all x}} x f(x) dx$$\n",
    "\n",
    "\n",
    "The **variance of a random variable** $X$ is the expectation of the squared deviation of the random variable from its mean.\n",
    "\n",
    "$$Var(X)=E[(X-E(X))^{2}]=E(X^{2}) - [E(X)]^{2}$$"
   ]
  }
 ],
 "metadata": {
  "kernelspec": {
   "display_name": "Python 3 (ipykernel)",
   "language": "python",
   "name": "python3"
  },
  "language_info": {
   "codemirror_mode": {
    "name": "ipython",
    "version": 3
   },
   "file_extension": ".py",
   "mimetype": "text/x-python",
   "name": "python",
   "nbconvert_exporter": "python",
   "pygments_lexer": "ipython3",
   "version": "3.9.9"
  }
 },
 "nbformat": 4,
 "nbformat_minor": 5
}
