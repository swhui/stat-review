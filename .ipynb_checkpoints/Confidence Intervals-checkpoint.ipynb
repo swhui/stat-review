{
 "cells": [
  {
   "cell_type": "markdown",
   "metadata": {},
   "source": [
    "## Confidence Intervals"
   ]
  },
  {
   "cell_type": "markdown",
   "metadata": {},
   "source": [
    "A **confidence interval** for a population parameter, call it $\\theta$, is a random interval, constructed from the sample, that will contain $\\theta$ with some probability. If we took many random samples and created $100(1-\\alpha)\\%$ confidence intervals from each random sample, $100(1-\\alpha)\\%$ of these random variables would contain the parameter of interest. We can also interpret this as follows: a $100(1-\\alpha)\\%$ confidence interval for $\\theta$ is a random interval that contains the parameter of interest with probability $100(1-\\alpha)\\%$. A confidence interval is a range of values that provide information about the amount of uncertainty we have about our sample estimate.\n",
    "\n",
    "The most commonly calculated confidence interval is the 95\\% confidence interval."
   ]
  },
  {
   "cell_type": "markdown",
   "metadata": {},
   "source": [
    "### Example: Confidence Intervals for the Population Mean\n",
    "\n",
    "Recall the following fact:\n",
    "\n",
    "If $Z$ follows a standard normal ($Z\\sim N(0, 1)$), then:\n",
    "\n",
    "For some $\\alpha \\in [0, 1]$, let $z(\\alpha)$ be a value such that the area under the standard normal density function to the right is $\\alpha$. Due to the standard normal distribution's symmetry about $0$, we have $z(1-\\alpha) = -z(\\alpha)$\n",
    "\n",
    "Then, we can write: \n",
    "\n",
    "$$P\\left(-z\\left(\\frac{\\alpha}{2} \\right) \\leq Z \\leq z\\left(\\frac{\\alpha}{2} \\right) \\right)=P\\left(Z \\leq \\left(z \\left(\\frac{\\alpha}{2} \\right)\\right) \\right) - P\\left(z \\leq -z\\left(\\frac{\\alpha}{2} \\right) \\right)=\\frac{\\alpha}{2} - \\left( 1- \\frac{\\alpha}{2} \\right)=1-\\alpha$$\n",
    "\n",
    "By the Central Limit Theorem, we have that $\\frac{{\\bar X} - \\mu}{\\sigma_{\\bar{X}}} \\overset{D}{\\longrightarrow} N(0, 1)$. Then, we can replace the $Z$ with $\\frac{{\\bar X} - \\mu}{\\sigma_{\\bar{X}}}$.\n",
    "\n",
    "$$P\\left(-z\\left(\\frac{\\alpha}{2} \\right) \\leq \\frac{{\\bar X} - \\mu}{\\sigma_{\\bar{X}}} \\leq z\\left(\\frac{\\alpha}{2} \\right) \\right) \\approx 1-\\alpha$$\n",
    "\n",
    "By rearranging terms, we get:\n",
    "\n",
    "$$P\\left(-{\\bar X}-\\sigma_{\\bar{X}} z\\left(\\frac{\\alpha}{2} \\right) \\leq  - \\mu \\leq -{\\bar X}+\\sigma_{\\bar{X}} z\\left(\\frac{\\alpha}{2} \\right) \\right) \\approx 1-\\alpha$$\n",
    "\n",
    "$$P\\left( {\\bar X}-\\sigma_{\\bar{X}} z\\left(\\frac{\\alpha}{2} \\right) \\leq  \\mu \\leq  {\\bar X} + \\sigma_{\\bar{X}} z\\left(\\frac{\\alpha}{2} \\right)\\right) \\approx 1-\\alpha$$\n",
    "\n",
    "The interval, $\\left({\\bar X}-\\sigma_{\\bar{X}} z\\left(\\frac{\\alpha}{2} \\right), {\\bar X} + \\sigma_{\\bar{X}} z\\left(\\frac{\\alpha}{2} \\right) \\right)$, is a $100(1-\\alpha)\\%$ confidence interval for the population mean.\n",
    "\n",
    "What exactly is random? It is not the population parameter, but the interval that is random.\n",
    "\n",
    "---"
   ]
  },
  {
   "cell_type": "markdown",
   "metadata": {},
   "source": [
    "Let's construct a confidence interval for the population mean, $\\mu$, using a sample of independent, identically-distributed $X_{i}$'s generated from a normal distribution ($X_{i} \\sim N(\\mu, \\sigma^{2})$). \n",
    "In other words, we want to obtain an estimate for $\\mu$, call it $\\hat \\mu$, and construct a confidence interval for it. Let ${\\hat \\mu} = {\\bar X}$. \n",
    "\n",
    "From before, we know that\n",
    "\n",
    "$$E[{\\bar X}] = \\mu$$\n",
    "\n",
    "$$Var({\\bar X}) = \\frac{\\sigma^{2}}{n}$$\n",
    "\n",
    "Since we can't directly obtain $Var({\\bar X})$, we can use an estimate of it, i.e. ${\\widehat{Var}}({\\bar X}) = \\frac{{\\hat {\\sigma}}^{2}}{n}$"
   ]
  },
  {
   "cell_type": "code",
   "execution_count": null,
   "metadata": {},
   "outputs": [],
   "source": []
  }
 ],
 "metadata": {
  "kernelspec": {
   "display_name": "Python 3",
   "language": "python",
   "name": "python3"
  },
  "language_info": {
   "codemirror_mode": {
    "name": "ipython",
    "version": 3
   },
   "file_extension": ".py",
   "mimetype": "text/x-python",
   "name": "python",
   "nbconvert_exporter": "python",
   "pygments_lexer": "ipython3",
   "version": "3.6.10"
  }
 },
 "nbformat": 4,
 "nbformat_minor": 5
}
