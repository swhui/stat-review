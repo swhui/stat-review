{
 "cells": [
  {
   "cell_type": "markdown",
   "metadata": {},
   "source": [
    "## Preface\n",
    "\n",
    "This notebook will include important definitions, theorem, and exercises for Stat 135. The purpose of this notebook is to help students review important statistical concepts, and the majority of these exercises and notes come from when I took the course back in Spring 2019 and Mathematical Statistics and Data Analysis by John A. Rice.\n"
   ]
  },
  {
   "cell_type": "markdown",
   "metadata": {},
   "source": [
    "## Probability Review"
   ]
  },
  {
   "cell_type": "markdown",
   "metadata": {},
   "source": [
    "### Random Variables, Expectation, Variance\n",
    "\n",
    "\n",
    "A **random variable** is set of possible values that come from some random phenomenon. A **discrete random variable** takes on a countable number of distinct values such as the number of heads found in $n$ trials. A **continuous random variable** can take on an infinite number of values in an interval such as the weight of a subject.\n",
    "\n",
    "\n",
    "The **probability mass function (PMF)** ($P(X=x)$) is the probability that a discrete random variable takes on a specific value. We refer to the support of a probability mass function as the set of values that the discrete random variable takes on.\n",
    "\n",
    "Some properties of the PMF of a random variable include:\n",
    " - $P(X=x) \\geq 0$\n",
    " - $\\sum_{\\text{all }x} P(X=x) = 1$\n",
    "\n",
    "\n",
    "The **probability density function (PDF)** ($f(x)$) is the probability that a continuous random variable takes on a specific range.\n",
    "\n",
    "Similarly, some properties of the PDF of a random variable include:\n",
    " - $f(x) \\geq 0$\n",
    " - $\\int_{-\\infty}^{\\infty} f(x) dx = 1$\n",
    "\n",
    "\n",
    "\n",
    "The **cumulative distribution function (CDF)** of a random variable, $X$ is defined to be:\n",
    "\n",
    "$$F_{X}(x) = P(X \\leq x); \\thinspace x\\in (-\\infty, \\infty)$$\n",
    "\n",
    "\n",
    "Some properties of the **CDF** of a random variable include:\n",
    "\n",
    " - $\\lim_{x \\rightarrow -\\infty} F(x) = 0$\n",
    " - $\\lim_{x \\rightarrow \\infty} F(x) = 1$\n",
    " - CDF is non-decreasing (if $x \\leq y$, then $F(x) \\leq F(y)$) and right-continuous.\n",
    "\n",
    "The **expectation of a discrete random variable** $X$ with probability mass function ($P(X=x)$) is: \n",
    "\n",
    "$$E[X] = \\sum_{\\text{all x}} x P(X=x)$$\n",
    "\n",
    "The **expectation of a continuous random variable** $X$ with probability density function ($f(x)$) is: \n",
    "\n",
    "$$E[X] = \\int_{\\text{all x}} x f(x) dx$$\n",
    "\n",
    "\n",
    "The **variance of a random variable** $X$ is the expectation of the squared deviation of the random variable from its mean.\n",
    "\n",
    "$$Var(X)=E[(X-E(X))^{2}]=E(X^{2}) - [E(X)]^{2}$$"
   ]
  },
  {
   "cell_type": "markdown",
   "metadata": {},
   "source": [
    "### Example 1\n",
    "\n",
    "Find the expectation of a $\\text{Gamma}(\\alpha, \\beta)$ distribution.\n",
    "\n",
    "The pdf of the $\\text{Gamma}(\\alpha, \\beta)$ distribution is:\n",
    "\n",
    "$$f(x) = \\frac{\\beta^{\\alpha}}{\\Gamma(\\alpha)} x^{\\alpha-1} e^{-\\beta x}$$\n",
    "\n",
    "For $\\alpha > 0$, $\\Gamma(\\alpha) = \\frac{1}{\\alpha} \\Gamma(\\alpha+1)$\n",
    "\n",
    "$$E[X] = \\int_{\\text{all x}} x f(x) dx = \\int_{\\text{all x}} x \\frac{\\beta^{\\alpha}}{\\Gamma(\\alpha)} x^{\\alpha-1} e^{-\\beta x} dx = \\frac{\\beta^{\\alpha}}{\\Gamma(\\alpha)}  \\int_{\\text{all x}} x^{\\alpha+1-1} e^{-\\beta x} dx = \\frac{\\beta^{\\alpha}}{\\Gamma(\\alpha)} \\frac{\\Gamma(\\alpha+1)}{\\beta^{\\alpha+1}} = \\frac{\\alpha}{\\beta}$$\n"
   ]
  },
  {
   "cell_type": "markdown",
   "metadata": {},
   "source": [
    "### Example 2\n",
    "\n",
    "Find the variance of a $\\text{Gamma}(\\alpha, \\beta)$ distribution.\n",
    "\n",
    "$$f(x) = \\frac{\\beta^{\\alpha}}{\\Gamma(\\alpha)} x^{\\alpha-1} e^{-\\beta x}$$\n",
    "\n",
    "For $\\alpha > 0$, $\\Gamma(\\alpha) = \\frac{1}{\\alpha} \\Gamma(\\alpha+1)$\n",
    "\n",
    "$$E[X^{2}] = \\int_{\\text{all x}} x^{2} f(x) dx = \\int_{\\text{all x}} x^{2} \\frac{\\beta^{\\alpha}}{\\Gamma(\\alpha)} x^{\\alpha-1} e^{-\\beta x} dx = \\frac{\\beta^{\\alpha}}{\\Gamma(\\alpha)}  \\int_{\\text{all x}} x^{\\alpha+2-1} e^{-\\beta x} dx = \\frac{\\beta^{\\alpha}}{\\Gamma(\\alpha)} \\frac{\\Gamma(\\alpha+2)}{\\beta^{\\alpha+2}} =\\frac{\\Gamma(\\alpha+2)}{\\frac{1}{\\alpha} \\frac{1}{\\alpha+1} \\Gamma(\\alpha+2) \\beta^{2}}$$\n",
    "\n",
    "$$=\\frac{\\alpha^{2} + \\alpha}{\\beta^{2}}$$\n",
    "\n",
    "$$Var(X) = E[X^{2}] - [E[X]]^{2} = \\frac{\\alpha^{2} + \\alpha}{\\beta^{2}} - \\left[ \\frac{\\alpha}{\\beta} \\right]^{2} = \\frac{\\alpha}{\\beta^{2}}$$"
   ]
  },
  {
   "cell_type": "code",
   "execution_count": null,
   "metadata": {},
   "outputs": [],
   "source": []
  },
  {
   "cell_type": "code",
   "execution_count": null,
   "metadata": {},
   "outputs": [],
   "source": []
  }
 ],
 "metadata": {
  "kernelspec": {
   "display_name": "Python 3",
   "language": "python",
   "name": "python3"
  },
  "language_info": {
   "codemirror_mode": {
    "name": "ipython",
    "version": 3
   },
   "file_extension": ".py",
   "mimetype": "text/x-python",
   "name": "python",
   "nbconvert_exporter": "python",
   "pygments_lexer": "ipython3",
   "version": "3.6.10"
  }
 },
 "nbformat": 4,
 "nbformat_minor": 5
}
