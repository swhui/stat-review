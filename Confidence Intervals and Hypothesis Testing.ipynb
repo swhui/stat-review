{
 "cells": [
  {
   "cell_type": "markdown",
   "metadata": {},
   "source": [
    "## Confidence Intervals"
   ]
  },
  {
   "cell_type": "markdown",
   "metadata": {},
   "source": [
    "A **confidence interval** for a population parameter, call it $\\theta$, is a random interval, constructed from the sample, that will contain $\\theta$ with some probability. If we took many random samples and created $100(1-\\alpha)\\%$ confidence intervals from each random sample, $100(1-\\alpha)\\%$ of these random variables would contain the parameter of interest. We can also interpret this as follows: a $100(1-\\alpha)\\%$ confidence interval for $\\theta$ is a random interval that contains the parameter of interest with probability $100(1-\\alpha)\\%$. A confidence interval is a range of values that provide information about the amount of uncertainty we have about our sample estimate.\n",
    "\n",
    "The most commonly calculated confidence interval is the $95\\%$ confidence interval."
   ]
  },
  {
   "cell_type": "markdown",
   "metadata": {},
   "source": [
    "### Example: Confidence Intervals for the Population Mean\n",
    "\n",
    "Recall the following fact:\n",
    "\n",
    "If $Z$ follows a standard normal ($Z\\sim N(0, 1)$), then:\n",
    "\n",
    "For some $\\alpha \\in [0, 1]$, let $z(\\alpha)$ be a value such that the area under the standard normal density function to the right is $\\alpha$. Due to the standard normal distribution's symmetry about $0$, we have $z(1-\\alpha) = -z(\\alpha)$\n",
    "\n",
    "Then, we can write: \n",
    "\n",
    "$$P\\left(-z\\left(\\frac{\\alpha}{2} \\right) \\leq Z \\leq z\\left(\\frac{\\alpha}{2} \\right) \\right)=P\\left(Z \\leq \\left(z \\left(\\frac{\\alpha}{2} \\right)\\right) \\right) - P\\left(z \\leq -z\\left(\\frac{\\alpha}{2} \\right) \\right)=\\frac{\\alpha}{2} - \\left( 1- \\frac{\\alpha}{2} \\right)=1-\\alpha$$\n",
    "\n",
    "By the Central Limit Theorem, we have that $\\frac{{\\bar X} - \\mu}{\\sigma_{\\bar{X}}} \\overset{D}{\\longrightarrow} N(0, 1)$. Then, we can replace the $Z$ with $\\frac{{\\bar X} - \\mu}{\\sigma_{\\bar{X}}}$.\n",
    "\n",
    "$$P\\left(-z\\left(\\frac{\\alpha}{2} \\right) \\leq \\frac{{\\bar X} - \\mu}{\\sigma_{\\bar{X}}} \\leq z\\left(\\frac{\\alpha}{2} \\right) \\right) \\approx 1-\\alpha$$\n",
    "\n",
    "By rearranging terms, we get:\n",
    "\n",
    "$$P\\left(-{\\bar X}-\\sigma_{\\bar{X}} z\\left(\\frac{\\alpha}{2} \\right) \\leq  - \\mu \\leq -{\\bar X}+\\sigma_{\\bar{X}} z\\left(\\frac{\\alpha}{2} \\right) \\right) \\approx 1-\\alpha$$\n",
    "\n",
    "$$P\\left( {\\bar X}-\\sigma_{\\bar{X}} z\\left(\\frac{\\alpha}{2} \\right) \\leq  \\mu \\leq  {\\bar X} + \\sigma_{\\bar{X}} z\\left(\\frac{\\alpha}{2} \\right)\\right) \\approx 1-\\alpha$$\n",
    "\n",
    "The interval, $\\left({\\bar X}-\\sigma_{\\bar{X}} z\\left(\\frac{\\alpha}{2} \\right), {\\bar X} + \\sigma_{\\bar{X}} z\\left(\\frac{\\alpha}{2} \\right) \\right)$, is a $100(1-\\alpha)\\%$ confidence interval for the population mean.\n",
    "\n",
    "What exactly is random? It is not the population parameter, but the interval that is random.\n",
    "\n",
    "---"
   ]
  },
  {
   "cell_type": "markdown",
   "metadata": {},
   "source": [
    "Let's construct a confidence interval for the population mean, $\\mu$, using a sample of independent, identically-distributed $X_{i}$'s generated from a normal distribution ($X_{i} \\sim N(\\mu, \\sigma^{2})$). \n",
    "In other words, we want to obtain an estimate for $\\mu$, call it $\\hat \\mu$, and construct a confidence interval for it. Let ${\\hat \\mu} = {\\bar X}$. \n",
    "\n",
    "From before, we know that\n",
    "\n",
    "$$E[{\\bar X}] = \\mu$$\n",
    "\n",
    "$$Var({\\bar X}) = \\frac{\\sigma^{2}}{n}$$\n",
    "\n",
    "Since we can't directly obtain $Var({\\bar X})$, we can use an estimate of it, i.e. ${\\widehat{Var}}({\\bar X}) = \\frac{{\\hat {\\sigma}}^{2}}{n}$"
   ]
  },
  {
   "cell_type": "markdown",
   "metadata": {},
   "source": [
    "To be more concrete, let's say we obtained a sample of size $n=50$ and observed that our sample mean was $26.5$ with a known standard deviation of $3$.\n",
    "\n",
    "Since we found that $\\left({\\bar X}-\\sigma_{\\bar{X}} z\\left(\\frac{\\alpha}{2} \\right), {\\bar X} + \\sigma_{\\bar{X}} z\\left(\\frac{\\alpha}{2} \\right) \\right)$ is our $95\\%$ confidence interval, we can simply substitute our observed values appropriately.\n",
    "\n",
    "Our $95\\%$ confidence interval from our sample is then: $(26.5-1.96\\times 3/\\sqrt{50}, 26.5+1.96\\times 3/\\sqrt{50})$."
   ]
  },
  {
   "cell_type": "markdown",
   "metadata": {},
   "source": [
    "### Example: Confidence Intervals for the Population Rate of a Poisson Distribution\n",
    "\n",
    "Let $X_{1},..., X_{n}$ is an IID sample $Pois(\\lambda)$ where $\\lambda$ is unknown. Find a $90\\%$ confidence interval for $\\lambda$.\n",
    "\n",
    "As a review exercise, show that ${\\hat \\lambda}_{MLE} = {\\bar X}$.\n",
    "\n",
    "Since we know that ${\\hat \\lambda}_{MLE}$ is asymptotically normal (we can also invoke CLT), which means\n",
    "\n",
    "$$\\frac{{\\hat \\lambda}_{MLE} - \\lambda}{SE({\\hat \\lambda}_{MLE})} \\rightarrow N(0,1)$$\n",
    "\n",
    "Furthermore, $Var({\\hat \\lambda}_{MLE}) = \\frac{\\lambda}{n}$.\n",
    "\n",
    "Then our $90\\%$ confidence interval is:\n",
    "\n",
    "$$({\\hat \\lambda}_{MLE} -1.65 \\times \\sqrt{\\frac{\\lambda}{n} }, {\\hat \\lambda}_{MLE} +1.65 \\times \\sqrt{\\frac{\\lambda}{n}})$$"
   ]
  },
  {
   "cell_type": "markdown",
   "metadata": {},
   "source": [
    "# Hypothesis Testing\n",
    "\n",
    "Hypothesis testing is a method for statistical inference where we test an assumption in regards to a population parameter.\n",
    "\n",
    "In a hypothesis test, we have a null hypothesis, $H_{0}$ and an alternative hypothesis $H_{1}$ is proposed for the probability distribution of the data. \n",
    "\n",
    "Let $X$ be a random variable and $\\mathcal X$ be the range of $X$. In order to test a hypothesis, we find a subset of outcomes $R \\subset \\mathcal X$, called the rejection region. If $X \\in R$, then we reject $H_{0}$. Otherwise, we do not reject $H_{0}$. Usually (and for this class), $R = \\left\\{x: T(x) > c \\right\\}$, where $T(x)$ is our test statistic found from our data $x$. and $c$ is a critical value.\n",
    "The probability of observe a test statistic that is at least as extreme than some critical value $c$ is called the p-value. Furthermore, if the p-value is lower than some specified threshold, called the significance level, $\\alpha$, then we say that we reject the $H_{0}$. A result is said to be statistically significant if the p-value is less than the significance level, $\\alpha$.\n",
    "\n",
    "When we reject the null hypothesis, $H_{0}$, when it is actually true, we call this a type I error. Our significance level $\\alpha$ is the probability of making a type I error.\n",
    "\n",
    "When we fail to reject the $H_{0}$ when it is actually false, we call this a type II error. We define $\\beta$ to be the probability of making a type II error. Furthermore, $1-\\beta$ is defined as our power, the probability of rejecting the null when the null is False.\n",
    "\n",
    "\n"
   ]
  },
  {
   "cell_type": "markdown",
   "metadata": {},
   "source": [
    "\n",
    "\n",
    "### Example: Hypothesis Test for $\\lambda$ in a Poisson distribution\n",
    "\n",
    "\n",
    "Suppose that our data, $X_{1},..., X_{n}$ are IID from a $Pois(\\lambda)$. We want to test the following:\n",
    "$H_{0}: \\lambda = \\lambda_{0}$ and $H_{1}: \\lambda \\neq  \\lambda_{0}$\n",
    "\n",
    "From before, we have ${\\hat \\lambda}_{MLE} = {\\bar X}$, and by the asymptotic normality (and also CLT), we have $\\frac{{\\hat \\lambda}_{MLE} - \\lambda}{SE({\\hat \\lambda}_{MLE})} \\rightarrow N(0,1)$. This means our test statistic is $\\frac{{\\hat \\lambda}_{MLE} - \\lambda}{SE({\\hat \\lambda}_{MLE})}$.\n",
    "\n",
    "If our test statistic seems unlikely to come from a $N(0, 1)$ distribution, then this is evidence against the $H_{0}$.\n"
   ]
  },
  {
   "cell_type": "markdown",
   "metadata": {},
   "source": [
    "Now, let us consider what happens when we conduct a hypothesis test under different hypotheses.\n",
    "\n",
    "First, let's say we are testing $H_{0}: \\lambda = \\lambda_{0} = 0$ against $H_{1}: \\lambda \\neq  0$ and we obtain an IID sample, $X_{1},..., X_{100}$, are IID from a $Pois(4)$. From this, we know that if we conduct a hypothesis test, we _should_ reject the $H_{0}$."
   ]
  },
  {
   "cell_type": "code",
   "execution_count": 9,
   "metadata": {},
   "outputs": [
    {
     "data": {
      "text/plain": [
       "0.0"
      ]
     },
     "execution_count": 9,
     "metadata": {},
     "output_type": "execute_result"
    }
   ],
   "source": [
    "import numpy as np\n",
    "from scipy.stats import norm\n",
    "\n",
    "samp_X = np.random.poisson(4, 100)\n",
    "lambda_mle = np.mean(samp_X)\n",
    "test_statistic = (lambda_mle - 0) / np.sqrt(lambda_mle / 100)\n",
    "2*(1- norm.cdf(abs( test_statistic)) )"
   ]
  },
  {
   "cell_type": "markdown",
   "metadata": {},
   "source": [
    "Now, consider if we are testing $H_{0}: \\lambda = \\lambda_{0} = 3.5$ against $H_{1}: \\lambda \\neq  3.5$."
   ]
  },
  {
   "cell_type": "code",
   "execution_count": 10,
   "metadata": {},
   "outputs": [
    {
     "data": {
      "text/plain": [
       "0.03389485352468924"
      ]
     },
     "execution_count": 10,
     "metadata": {},
     "output_type": "execute_result"
    }
   ],
   "source": [
    "test_statistic = (lambda_mle - 3.5) / np.sqrt(lambda_mle / 100)\n",
    "2*(1- norm.cdf(abs( test_statistic)) )"
   ]
  },
  {
   "cell_type": "markdown",
   "metadata": {},
   "source": [
    "Now, let's say we are testing $H_{0}: \\lambda = \\lambda_{0} = 3.9$ against $H_{1}: \\lambda \\neq  3.9$."
   ]
  },
  {
   "cell_type": "code",
   "execution_count": 11,
   "metadata": {},
   "outputs": [
    {
     "data": {
      "text/plain": [
       "0.9195383508138883"
      ]
     },
     "execution_count": 11,
     "metadata": {},
     "output_type": "execute_result"
    }
   ],
   "source": [
    "test_statistic = (lambda_mle - 3.9) / np.sqrt(lambda_mle / 100)\n",
    "2*(1- norm.cdf(abs( test_statistic)) )"
   ]
  }
 ],
 "metadata": {
  "kernelspec": {
   "display_name": "Python 3",
   "language": "python",
   "name": "python3"
  },
  "language_info": {
   "codemirror_mode": {
    "name": "ipython",
    "version": 3
   },
   "file_extension": ".py",
   "mimetype": "text/x-python",
   "name": "python",
   "nbconvert_exporter": "python",
   "pygments_lexer": "ipython3",
   "version": "3.6.10"
  }
 },
 "nbformat": 4,
 "nbformat_minor": 5
}
