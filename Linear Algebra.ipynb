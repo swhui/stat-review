{
 "cells": [
  {
   "cell_type": "markdown",
   "metadata": {},
   "source": [
    "# Linear Algebra Review\n",
    "\n",
    "In this section, I will add problems reviewing linear algebra concepts that are helpful to know in statistics."
   ]
  },
  {
   "cell_type": "markdown",
   "metadata": {},
   "source": [
    "### Example\n",
    "\n",
    "Find the eigenvalues and eigenvectors of $X$ where\n",
    "$$X = \\begin{pmatrix} -1 & 4 \\\\ -2 & 5\\end{pmatrix}$$\n",
    "\n",
    "Answer:\n",
    "\n",
    "$$X - \\lambda I = \\begin{pmatrix} -1-\\lambda & 4 \\\\ -2 & 5 -\\lambda \\end{pmatrix}$$\n",
    "\n",
    "$$det( X - \\lambda I ) = ( -1-\\lambda )( 5 -\\lambda ) + 8 = -5 - 4\\lambda + \\lambda^{2} + 8 = \\lambda^{2} -4\\lambda +3 = (\\lambda -3)(\\lambda - 1)$$\n",
    "\n",
    "Then, the eigenvalues are $3$ and $1$.\n",
    "\n",
    "To find our eigenvectors, $v_{1}, v_{2}$, we use the fact that $Xv_{1} = 3v_{1}$ and $X v_{2} = 1 v_{2}$\n",
    "\n",
    "$$\\begin{pmatrix} -1 & 4 \\\\ -2 & 5\\end{pmatrix} \\begin{pmatrix} v_{11}  \\\\ v_{12}\\end{pmatrix} = \\begin{pmatrix} 3v_{11}  \\\\ 3v_{12}\\end{pmatrix}$$\n",
    "\n",
    "$$\\begin{pmatrix} -1 & 4 \\\\ -2 & 5\\end{pmatrix} \\begin{pmatrix} v_{21}  \\\\ v_{22}\\end{pmatrix} = \\begin{pmatrix} v_{21}  \\\\ v_{22}\\end{pmatrix}$$"
   ]
  },
  {
   "cell_type": "markdown",
   "metadata": {},
   "source": []
  },
  {
   "cell_type": "markdown",
   "metadata": {},
   "source": []
  },
  {
   "cell_type": "markdown",
   "metadata": {},
   "source": []
  }
 ],
 "metadata": {
  "kernelspec": {
   "display_name": "Python 3",
   "language": "python",
   "name": "python3"
  },
  "language_info": {
   "codemirror_mode": {
    "name": "ipython",
    "version": 3
   },
   "file_extension": ".py",
   "mimetype": "text/x-python",
   "name": "python",
   "nbconvert_exporter": "python",
   "pygments_lexer": "ipython3",
   "version": "3.6.10"
  }
 },
 "nbformat": 4,
 "nbformat_minor": 5
}
