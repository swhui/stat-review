{
 "cells": [
  {
   "cell_type": "markdown",
   "metadata": {},
   "source": [
    "# Hypothesis Testing\n",
    "\n",
    "In general, a hypothesis tests examines the validity of a null hypothesis versus and alternative hypothesis about some unknown parameter of interest.\n",
    "\n",
    "For example, suppose I have a sample, $X_{1},\\dots, X_{n}$ from some distribution parametrized by an unknown $\\theta$, and we wish to test $$H_{0}: \\theta = 0 \\text{   vs.  } H_{1}: \\theta \\neq 0$$ \n",
    "Then, we establish some test statistic, $T(X_{1}, \\dots, X_{n})$. If the observed test statistic looks unlikely to\n",
    "have come from its null distribution (assuming $\\theta = 0$), we reject in favor of the alternative. Otherwise, we fail to reject.\n"
   ]
  },
  {
   "cell_type": "markdown",
   "metadata": {},
   "source": [
    "## Power\n",
    "\n",
    "\n",
    "When we make a decision based on this, there are two undeal situtations:\n",
    "\n",
    "1. Reject $H_{0}$ when $H_{0}$ is true (**Type I Error**)\n",
    "2. Fail to reject $H_{0}$ when the $H_{0}$ is false and should be rejected (**Type II Error**)\n",
    "\n",
    "Fortunately, if with conduct a test with $\\alpha$ significance level, the probability of committing a Type I Error is controlled by $\\alpha$, $\\mathbb{P}(\\text{Type I Error}) \\leq \\alpha$.\n",
    "\n",
    "Thus, when $\\alpha$ is low enough, the probability that we reject the null when we should not is low. Now, we want the probability of committing a Type II Error to be as low as possible. The power of a test is $\\text{Power} = \\mathbb{P}(\\text{reject } H_{0} | H_{1}) = 1 - \\mathbb{P}(\\text{fail to reject } H_{0}|H_{1}) = 1 - \\mathbb{P}(\\text{Type II Error})$; thus, we want our power to be high.\n",
    "\n",
    "\n",
    "### Example\n",
    "\n",
    "Let $X_{1}, \\dots, X_{n} \\sim \\text{Bernoulli}(p)$, with $0 < p < 1$ unknown.\n",
    "\n",
    "Let our hypotheses be:\n",
    "$$H_{0}: p = p_{0}$$ \n",
    "$$H_{1}: p > p_{0}$$\n",
    "and our test statistic under the $H_{0}$ is:\n",
    "$$T(X_{1}, \\dots, X_{n}) = \\frac{\\hat{p} - p_{0}}{\\sqrt{\\frac{p_{0}(1-p_{0})}{n}}}$$\n",
    "and $\\hat{p} = \\frac{1}{n}\\sum_{i=1}^{n}X_{i}$\n",
    "Under $H_{0}$, we can show that $T \\sim N(0,1)$\n",
    "What is the type I and type II error rate?\n",
    "\n",
    "The type I error rate is $\\alpha$.\n",
    "The type II error rate is: $\\mathbb{P}(\\text{Type II error}) = \\mathbb{P}(\\text{fail to reject } H_{0}|H_{1})$. Under $H_{1}$, $p$ can take on any value in the interval $(p_{0}, 1]$\n",
    "\n",
    "Then, we can write the probability of making a type II error as: $\\mathbb{P}(\\text{Type II Error}) = \\mathbb{P}(\\text{fail to reject } H_{0}|p = p_{1})$.  Since there are multiple $p_{1}$, we write the type II error as:\n",
    "\n",
    "$$\\mathbb{P}(\\text{Type II Error}) = \\mathbb{P}(T(X_{1},\\dots,X_{n}) < z_{1-\\alpha}|p=p_{1}) = \\mathbb{P}\\left( \\frac{\\hat{p} - p_{0}}{\\sqrt{\\frac{p_{0}(1-p_{0})}{n}}} < z_{1-\\alpha}|p=p_{1}\\right)$$\n",
    "\n",
    "Under the specific alternative hypothesis $p = p_{1}$, we know that $\\frac{\\hat{p} - p_{1}}{\\sqrt{\\frac{p_{1}(1-p_{1})}{n}}} \\sim N(0, 1)$\n",
    "\n",
    "After some algebra, we can write, $\\frac{\\hat{p} - p_{1}}{\\sqrt{\\frac{p_{1}(1-p_{1})}{n}}} < \\frac{(p_{0} - p_{1})\\sqrt{n}}{\\sqrt{p_{1}(1-p_{1})}} + z_{1-\\alpha} \\sqrt{\\frac{p_{0}(1-p_{0})}{p_{1}(1-p_{1})}}$ and as a result,\n",
    "\n",
    "$$\\mathbb{P}(\\text{Type II Error}) = \\mathbb{P}\\left(  \\frac{\\hat{p} - p_{1}}{\\sqrt{\\frac{p_{1}(1-p_{1})}{n}}} < \\frac{(p_{0} - p_{1})\\sqrt{n}}{\\sqrt{p_{1}(1-p_{1})}} + z_{1-\\alpha} \\sqrt{\\frac{p_{0}(1-p_{0})}{p_{1}(1-p_{1})}} \\bigg| \\thinspace p=p_{1}\\right) = \\Phi \\left( \\frac{(p_{0} - p_{1})\\sqrt{n}}{\\sqrt{p_{1}(1-p_{1})}} + z_{1-\\alpha} \\sqrt{\\frac{p_{0}(1-p_{0})}{p_{1}(1-p_{1})}}  \\right)$$\n",
    "\n",
    "Then, also, power is\n",
    "\n",
    "$$\\text{power }  = 1 - \\Phi \\left( \\frac{(p_{0} - p_{1})\\sqrt{n}}{\\sqrt{p_{1}(1-p_{1})}} + z_{1-\\alpha} \\sqrt{\\frac{p_{0}(1-p_{0})}{p_{1}(1-p_{1})}}  \\right)$$"
   ]
  },
  {
   "cell_type": "markdown",
   "metadata": {},
   "source": [
    "## t-tests\n",
    "\n",
    "\n"
   ]
  },
  {
   "cell_type": "markdown",
   "metadata": {},
   "source": [
    "## Likelihood Ratio Tests\n",
    "\n",
    "\n"
   ]
  },
  {
   "cell_type": "markdown",
   "metadata": {},
   "source": [
    "## Likelihood Ratio Tests\n",
    "\n",
    "\n"
   ]
  },
  {
   "cell_type": "markdown",
   "metadata": {},
   "source": []
  }
 ],
 "metadata": {
  "kernelspec": {
   "display_name": "Python 3",
   "language": "python",
   "name": "python3"
  },
  "language_info": {
   "codemirror_mode": {
    "name": "ipython",
    "version": 3
   },
   "file_extension": ".py",
   "mimetype": "text/x-python",
   "name": "python",
   "nbconvert_exporter": "python",
   "pygments_lexer": "ipython3",
   "version": "3.6.10"
  }
 },
 "nbformat": 4,
 "nbformat_minor": 5
}
